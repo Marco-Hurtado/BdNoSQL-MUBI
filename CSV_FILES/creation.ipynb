{
 "cells": [
  {
   "cell_type": "code",
   "execution_count": 1,
   "metadata": {},
   "outputs": [],
   "source": [
    "import pandas as pd\n",
    "import numpy as np"
   ]
  },
  {
   "cell_type": "markdown",
   "metadata": {},
   "source": [
    "# Géneros"
   ]
  },
  {
   "cell_type": "code",
   "execution_count": 7,
   "metadata": {},
   "outputs": [],
   "source": [
    "generos_peliculas = [\n",
    "    \"Acción\",\n",
    "    \"Aventura\",\n",
    "    \"Animación\",\n",
    "    \"Biografía\",\n",
    "    \"Comedia\",\n",
    "    \"Crimen\",\n",
    "    \"Documental\",\n",
    "    \"Drama\",\n",
    "    \"Familiar\",\n",
    "    \"Fantasía\",\n",
    "    \"Historia\",\n",
    "    \"Terror\",\n",
    "    \"Misterio\",\n",
    "    \"Musical\",\n",
    "    \"Romance\",\n",
    "    \"Ciencia ficción\",\n",
    "    \"Deportes\",\n",
    "    \"Suspenso\",\n",
    "    \"Guerra\",\n",
    "    \"Western\",\n",
    "    \"No clasificado\" # Este es un género adicional para películas que no se ajustan a ningún género específico\n",
    "]"
   ]
  },
  {
   "cell_type": "code",
   "execution_count": null,
   "metadata": {},
   "outputs": [],
   "source": []
  }
 ],
 "metadata": {
  "kernelspec": {
   "display_name": "Python",
   "language": "python",
   "name": "python3"
  },
  "language_info": {
   "codemirror_mode": {
    "name": "ipython",
    "version": 3
   },
   "file_extension": ".py",
   "mimetype": "text/x-python",
   "name": "python",
   "nbconvert_exporter": "python",
   "pygments_lexer": "ipython3",
   "version": "3.11.8"
  }
 },
 "nbformat": 4,
 "nbformat_minor": 2
}
